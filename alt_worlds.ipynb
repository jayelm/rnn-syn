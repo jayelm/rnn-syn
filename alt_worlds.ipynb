{
 "cells": [
  {
   "cell_type": "markdown",
   "metadata": {},
   "source": [
    "Evaluating on alternative worlds"
   ]
  },
  {
   "cell_type": "code",
   "execution_count": 106,
   "metadata": {},
   "outputs": [],
   "source": [
    "from swdata import (AsymScene, Scene, SWorld, TrainEx, load_components,\n",
    "                    make_from_components)\n",
    "import swdata\n",
    "import numpy as np\n",
    "%matplotlib inline\n"
   ]
  },
  {
   "cell_type": "code",
   "execution_count": 2,
   "metadata": {},
   "outputs": [],
   "source": [
    "from rnn_syn import CONFIGS, build_end2end_model, RNN_CELLS"
   ]
  },
  {
   "cell_type": "code",
   "execution_count": 81,
   "metadata": {},
   "outputs": [],
   "source": [
    "train_cf = CONFIGS['shape_color_generalization_3']['train']"
   ]
  },
  {
   "cell_type": "code",
   "execution_count": 4,
   "metadata": {},
   "outputs": [],
   "source": [
    "import tensorflow as tf"
   ]
  },
  {
   "cell_type": "code",
   "execution_count": 5,
   "metadata": {},
   "outputs": [],
   "source": [
    "tfs, tls, tfl, tll, t_msg, t_pred, t_loss, convs, convl = build_end2end_model(\n",
    "                5,\n",
    "                net_arch=(256, 64, 1024),\n",
    "                discrete=False,\n",
    "                rnncell=RNN_CELLS['gru'],\n",
    "                asym=True)"
   ]
  },
  {
   "cell_type": "code",
   "execution_count": 6,
   "metadata": {},
   "outputs": [],
   "source": [
    "session = tf.Session()"
   ]
  },
  {
   "cell_type": "code",
   "execution_count": 7,
   "metadata": {},
   "outputs": [
    {
     "name": "stdout",
     "output_type": "stream",
     "text": [
      "INFO:tensorflow:Restoring parameters from saves/gen_521_1500.ckpt\n"
     ]
    }
   ],
   "source": [
    "saver = tf.train.Saver()\n",
    "saver.restore(session, 'saves/gen_521_1500.ckpt')"
   ]
  },
  {
   "cell_type": "code",
   "execution_count": 84,
   "metadata": {},
   "outputs": [
    {
     "data": {
      "text/plain": [
       "['1000-square-blue-square-red',\n",
       " '1000-square-green-square-red',\n",
       " '1000-square-red-triangle-blue',\n",
       " '1000-square-red-triangle-green',\n",
       " '1000-circle-red-square-red',\n",
       " '1000-circle-blue-square-red',\n",
       " '1000-circle-green-square-red',\n",
       " '1000-square-blue-square-green',\n",
       " '1000-square-blue-triangle-blue',\n",
       " '1000-square-blue-triangle-green',\n",
       " '1000-circle-red-square-blue',\n",
       " '1000-circle-blue-square-blue',\n",
       " '1000-circle-green-square-blue',\n",
       " '1000-square-green-triangle-blue',\n",
       " '1000-square-green-triangle-green',\n",
       " '1000-circle-red-square-green',\n",
       " '1000-circle-blue-square-green',\n",
       " '1000-circle-green-square-green',\n",
       " '1000-triangle-blue-triangle-green',\n",
       " '1000-circle-red-triangle-blue',\n",
       " '1000-circle-blue-triangle-blue',\n",
       " '1000-circle-green-triangle-blue',\n",
       " '1000-circle-red-triangle-green',\n",
       " '1000-circle-blue-triangle-green',\n",
       " '1000-circle-green-triangle-green',\n",
       " '1000-circle-blue-circle-red',\n",
       " '1000-circle-green-circle-red',\n",
       " '1000-circle-blue-circle-green']"
      ]
     },
     "execution_count": 84,
     "metadata": {},
     "output_type": "execute_result"
    }
   ],
   "source": [
    "train_cf"
   ]
  },
  {
   "cell_type": "code",
   "execution_count": 92,
   "metadata": {},
   "outputs": [
    {
     "name": "stderr",
     "output_type": "stream",
     "text": [
      "Load components: 100%|██████████| 28/28 [00:21<00:00,  1.28it/s]\n"
     ]
    }
   ],
   "source": [
    "configs, components_dict = load_components(train_cf)"
   ]
  },
  {
   "cell_type": "code",
   "execution_count": 103,
   "metadata": {},
   "outputs": [
    {
     "name": "stdout",
     "output_type": "stream",
     "text": [
      "(('square', 'blue'), ('square', 'red'), 'x-rel')\n",
      "tgt not correct, continuing\n",
      "(('square', 'blue'), ('square', 'red'), 'y-rel')\n",
      "Like: 0.9047619047619048\n",
      "(64, 5, 64, 64, 3)\n",
      "Opp: 0.5079365079365079\n",
      "(('square', 'green'), ('square', 'red'), 'x-rel')\n",
      "Like: 0.9333333333333333\n",
      "(61, 5, 64, 64, 3)\n",
      "Opp: 0.5151515151515151\n",
      "(('square', 'green'), ('square', 'red'), 'y-rel')\n",
      "Like: 0.9264705882352942\n",
      "(69, 5, 64, 64, 3)\n",
      "Opp: 0.5344827586206896\n",
      "(('square', 'red'), ('triangle', 'blue'), 'x-rel')\n",
      "Like: 0.8382352941176471\n",
      "(69, 5, 64, 64, 3)\n",
      "Opp: 0.6896551724137931\n",
      "(('square', 'red'), ('triangle', 'blue'), 'y-rel')\n",
      "Like: 0.8266666666666667\n",
      "(76, 5, 64, 64, 3)\n",
      "Opp: 0.5490196078431373\n",
      "(('square', 'red'), ('triangle', 'green'), 'x-rel')\n",
      "Like: 0.9661016949152542\n",
      "(60, 5, 64, 64, 3)\n",
      "Opp: 0.5671641791044776\n",
      "(('square', 'red'), ('triangle', 'green'), 'y-rel')\n",
      "Like: 0.8571428571428571\n",
      "(71, 5, 64, 64, 3)\n",
      "Opp: 0.5892857142857143\n",
      "(('circle', 'red'), ('square', 'red'), 'x-rel')\n",
      "same color ,continuing\n",
      "(('circle', 'red'), ('square', 'red'), 'y-rel')\n",
      "same color ,continuing\n",
      "(('circle', 'blue'), ('square', 'red'), 'x-rel')\n",
      "Like: 1.0\n",
      "(67, 5, 64, 64, 3)\n",
      "Opp: 0.6333333333333333\n",
      "(('circle', 'blue'), ('square', 'red'), 'y-rel')\n",
      "Like: 0.9454545454545454\n",
      "(56, 5, 64, 64, 3)\n",
      "Opp: 0.6056338028169014\n",
      "(('circle', 'green'), ('square', 'red'), 'x-rel')\n",
      "Like: 0.9516129032258065\n",
      "(63, 5, 64, 64, 3)\n",
      "Opp: 0.46875\n",
      "(('circle', 'green'), ('square', 'red'), 'y-rel')\n",
      "Like: 0.9420289855072463\n",
      "(70, 5, 64, 64, 3)\n",
      "Opp: 0.5087719298245614\n",
      "(('square', 'blue'), ('square', 'green'), 'x-rel')\n",
      "Like: 0.9538461538461539\n",
      "(66, 5, 64, 64, 3)\n",
      "Opp: 0.6065573770491803\n",
      "(('square', 'blue'), ('square', 'green'), 'y-rel')\n",
      "Like: 0.864406779661017\n",
      "(60, 5, 64, 64, 3)\n",
      "Opp: 0.47761194029850745\n",
      "(('square', 'blue'), ('triangle', 'blue'), 'x-rel')\n",
      "same color ,continuing\n",
      "(('square', 'blue'), ('triangle', 'blue'), 'y-rel')\n",
      "same color ,continuing\n",
      "(('square', 'blue'), ('triangle', 'green'), 'x-rel')\n",
      "Like: 0.8888888888888888\n",
      "(73, 5, 64, 64, 3)\n",
      "Opp: 0.5\n",
      "(('square', 'blue'), ('triangle', 'green'), 'y-rel')\n",
      "Like: 0.9420289855072463\n",
      "(70, 5, 64, 64, 3)\n",
      "Opp: 0.43859649122807015\n",
      "(('circle', 'red'), ('square', 'blue'), 'x-rel')\n",
      "Like: 1.0\n",
      "(61, 5, 64, 64, 3)\n",
      "Opp: 0.5909090909090909\n",
      "(('circle', 'red'), ('square', 'blue'), 'y-rel')\n",
      "Like: 0.8181818181818182\n",
      "(56, 5, 64, 64, 3)\n",
      "Opp: 0.4084507042253521\n",
      "(('circle', 'blue'), ('square', 'blue'), 'x-rel')\n",
      "same color ,continuing\n",
      "(('circle', 'blue'), ('square', 'blue'), 'y-rel')\n",
      "same color ,continuing\n",
      "(('circle', 'green'), ('square', 'blue'), 'x-rel')\n",
      "Like: 0.918918918918919\n",
      "(75, 5, 64, 64, 3)\n",
      "Opp: 0.5192307692307693\n",
      "(('circle', 'green'), ('square', 'blue'), 'y-rel')\n",
      "Like: 0.9137931034482759\n",
      "(59, 5, 64, 64, 3)\n",
      "Opp: 0.5294117647058824\n",
      "(('square', 'green'), ('triangle', 'blue'), 'x-rel')\n",
      "Like: 0.9365079365079365\n",
      "(64, 5, 64, 64, 3)\n",
      "Opp: 0.6666666666666666\n",
      "(('square', 'green'), ('triangle', 'blue'), 'y-rel')\n",
      "Like: 0.8548387096774194\n",
      "(63, 5, 64, 64, 3)\n",
      "Opp: 0.609375\n",
      "(('square', 'green'), ('triangle', 'green'), 'x-rel')\n",
      "same color ,continuing\n",
      "(('square', 'green'), ('triangle', 'green'), 'y-rel')\n",
      "same color ,continuing\n",
      "(('circle', 'red'), ('square', 'green'), 'x-rel')\n",
      "Like: 0.9649122807017544\n",
      "(58, 5, 64, 64, 3)\n",
      "Opp: 0.6666666666666666\n",
      "(('circle', 'red'), ('square', 'green'), 'y-rel')\n",
      "Like: 0.9230769230769231\n",
      "(66, 5, 64, 64, 3)\n",
      "Opp: 0.5245901639344263\n",
      "(('circle', 'blue'), ('square', 'green'), 'x-rel')\n",
      "Like: 0.9714285714285714\n",
      "(71, 5, 64, 64, 3)\n",
      "Opp: 0.4642857142857143\n",
      "(('circle', 'blue'), ('square', 'green'), 'y-rel')\n",
      "Like: 0.9420289855072463\n",
      "(70, 5, 64, 64, 3)\n",
      "Opp: 0.5614035087719298\n",
      "(('circle', 'green'), ('square', 'green'), 'x-rel')\n",
      "same color ,continuing\n",
      "(('circle', 'green'), ('square', 'green'), 'y-rel')\n",
      "same color ,continuing\n",
      "(('triangle', 'blue'), ('triangle', 'green'), 'x-rel')\n",
      "Like: 0.8833333333333333\n",
      "(61, 5, 64, 64, 3)\n",
      "Opp: 0.5151515151515151\n",
      "(('triangle', 'blue'), ('triangle', 'green'), 'y-rel')\n",
      "Like: 0.796875\n",
      "(65, 5, 64, 64, 3)\n",
      "Opp: 0.45161290322580644\n",
      "(('circle', 'red'), ('triangle', 'blue'), 'x-rel')\n",
      "Like: 0.9354838709677419\n",
      "(63, 5, 64, 64, 3)\n",
      "Opp: 0.640625\n",
      "(('circle', 'red'), ('triangle', 'blue'), 'y-rel')\n",
      "Like: 0.8923076923076924\n",
      "(66, 5, 64, 64, 3)\n",
      "Opp: 0.5409836065573771\n",
      "(('circle', 'blue'), ('triangle', 'blue'), 'x-rel')\n",
      "same color ,continuing\n",
      "(('circle', 'blue'), ('triangle', 'blue'), 'y-rel')\n",
      "same color ,continuing\n",
      "(('circle', 'green'), ('triangle', 'blue'), 'x-rel')\n",
      "Like: 0.9090909090909091\n",
      "(78, 5, 64, 64, 3)\n",
      "Opp: 0.5102040816326531\n",
      "(('circle', 'green'), ('triangle', 'blue'), 'y-rel')\n",
      "Like: 0.8115942028985508\n",
      "(70, 5, 64, 64, 3)\n",
      "Opp: 0.631578947368421\n",
      "(('circle', 'red'), ('triangle', 'green'), 'x-rel')\n",
      "Like: 0.9322033898305084\n",
      "(60, 5, 64, 64, 3)\n",
      "Opp: 0.5522388059701493\n",
      "(('circle', 'red'), ('triangle', 'green'), 'y-rel')\n",
      "Like: 0.95\n",
      "(61, 5, 64, 64, 3)\n",
      "Opp: 0.5\n",
      "(('circle', 'blue'), ('triangle', 'green'), 'x-rel')\n",
      "Like: 0.9354838709677419\n",
      "(63, 5, 64, 64, 3)\n",
      "Opp: 0.578125\n",
      "(('circle', 'blue'), ('triangle', 'green'), 'y-rel')\n",
      "Like: 0.90625\n",
      "(65, 5, 64, 64, 3)\n",
      "Opp: 0.6451612903225806\n",
      "(('circle', 'green'), ('triangle', 'green'), 'x-rel')\n",
      "same color ,continuing\n",
      "(('circle', 'green'), ('triangle', 'green'), 'y-rel')\n",
      "same color ,continuing\n",
      "(('circle', 'blue'), ('circle', 'red'), 'x-rel')\n",
      "Like: 1.0\n",
      "(60, 5, 64, 64, 3)\n",
      "Opp: 0.6417910447761194\n",
      "(('circle', 'blue'), ('circle', 'red'), 'y-rel')\n",
      "Like: 0.9459459459459459\n",
      "(75, 5, 64, 64, 3)\n",
      "Opp: 0.5384615384615384\n",
      "(('circle', 'green'), ('circle', 'red'), 'x-rel')\n",
      "Like: 0.921875\n",
      "(65, 5, 64, 64, 3)\n",
      "Opp: 0.5483870967741935\n",
      "(('circle', 'green'), ('circle', 'red'), 'y-rel')\n",
      "Like: 0.9032258064516129\n",
      "(63, 5, 64, 64, 3)\n",
      "Opp: 0.53125\n",
      "(('circle', 'blue'), ('circle', 'green'), 'x-rel')\n",
      "Like: 0.9344262295081968\n",
      "(62, 5, 64, 64, 3)\n",
      "Opp: 0.5384615384615384\n",
      "(('circle', 'blue'), ('circle', 'green'), 'y-rel')\n",
      "Like: 0.9107142857142857\n",
      "(57, 5, 64, 64, 3)\n",
      "Opp: 0.5142857142857142\n"
     ]
    }
   ],
   "source": [
    "other_accs = []\n",
    "other_accs_rev = []\n",
    "cf_txt = []\n",
    "\n",
    "for config in configs:\n",
    "    print(config)\n",
    "    # It doesn't know common colors (yet)\n",
    "    if config[0][1] == config[1][1]:\n",
    "        print(\"same color ,continuing\")\n",
    "        continue\n",
    "    cfs = [config]\n",
    "    \n",
    "    batch, batch_metadata = zip(*make_from_components(128, cfs, components_dict, False,\n",
    "                     {'max_images': 5, 'min_targets': 2, 'min_distractors': 1},\n",
    "                    weighted=False))\n",
    "    rel1, rel1_md = zip(*(t for t in zip(batch, batch_metadata) if t[1]['relation_dir'] == 1))\n",
    "    rel0, rel0_md = zip(*(t for t in zip(batch, batch_metadata) if\n",
    "                          t[1]['relation_dir'] == -1 and t[1]['n_targets']))\n",
    "    \n",
    "    bse, bsl, batch_envs, batch_labels = \\\n",
    "        swdata.prepare_end2end(rel1, 5, asym=True)\n",
    "        \n",
    "    # Get target message\n",
    "    tgt_msg, tgt_pred = session.run(\n",
    "        [t_msg, t_pred], {\n",
    "            tfs: np.array([bse[0]]),\n",
    "            tls: np.array([bsl[0]]),\n",
    "            tfl: np.array([batch_envs[0]]),\n",
    "    })\n",
    "    if not np.all((tgt_pred > 0) == np.array([batch_labels[0]]), axis=1):\n",
    "        print(\"tgt not correct, continuing\")\n",
    "        continue\n",
    "        \n",
    "    # Repeat the message for the rest of the batch\n",
    "    tgt_rep = np.vstack(tgt_msg for _ in range(batch_envs[1:].shape[0]))\n",
    "\n",
    "    other_pred = session.run(\n",
    "        t_pred, {\n",
    "        t_msg: tgt_rep,\n",
    "        tfl: batch_envs[1:]\n",
    "    })\n",
    "    acc = np.all((other_pred > 0) == batch_labels[1:], axis=1).mean()\n",
    "    print(\"Like:\", acc)\n",
    "    other_accs.append(acc)\n",
    "\n",
    "    # Reverse roles\n",
    "\n",
    "    print(batch_envs.shape)\n",
    "\n",
    "    bse, bsl, batch_envs, batch_labels = \\\n",
    "        swdata.prepare_end2end(rel0, 5, asym=True)\n",
    "    \n",
    "    tgt_rep = np.vstack(tgt_msg for _ in range(batch_envs[1:].shape[0]))\n",
    "    \n",
    "    rev_pred = session.run(\n",
    "        t_pred, {\n",
    "        t_msg: tgt_rep,\n",
    "        tfl: batch_envs[1:]\n",
    "    })\n",
    "    acc_rev = np.all((rev_pred < 0) == batch_labels[1:], axis=1).mean()\n",
    "\n",
    "    print(\"Opp:\", acc_rev)\n",
    "    other_accs_rev.append(acc_rev)\n",
    "    cf_txt.append(str(config))"
   ]
  },
  {
   "cell_type": "code",
   "execution_count": 102,
   "metadata": {},
   "outputs": [],
   "source": [
    "import pandas as pd\n",
    "import seaborn as sns"
   ]
  },
  {
   "cell_type": "code",
   "execution_count": 110,
   "metadata": {},
   "outputs": [],
   "source": [
    "accs = pd.DataFrame({\n",
    "    'acc': other_accs + other_accs_rev,\n",
    "    'type': ['like' for _ in range(len(other_accs))] + ['opp' for _ in range(len(other_accs_rev))],\n",
    "    'config': cf_txt * 2\n",
    "})"
   ]
  },
  {
   "cell_type": "code",
   "execution_count": 115,
   "metadata": {},
   "outputs": [
    {
     "data": {
      "image/png": "[encoded data removed]",
      "text/plain": [
       "<matplotlib.figure.Figure at 0x7f7ca168de10>"
      ]
     },
     "metadata": {},
     "output_type": "display_data"
    }
   ],
   "source": [
    "ax = sns.pointplot(x = 'type', y = 'acc', hue='config', data = accs)\n",
    "\n",
    "ax.legend_.remove()"
   ]
  },
  {
   "cell_type": "markdown",
   "metadata": {},
   "source": [
    "1. Worth doing continuous? (we care for e.g. encoder-decoder, also translating neuralese)\n",
    "2. How to generalize to a statement about learning vs. just performance on this game?\n",
    "\n",
    "3. Idea of \"learning shapeworld captions\", since in shapeworld you can generate\n",
    "4. More distractors"
   ]
  },
  {
   "cell_type": "code",
   "execution_count": null,
   "metadata": {},
   "outputs": [],
   "source": []
  }
 ],
 "metadata": {
  "kernelspec": {
   "display_name": "Python [conda env:py35]",
   "language": "python",
   "name": "conda-env-py35-py"
  },
  "language_info": {
   "codemirror_mode": {
    "name": "ipython",
    "version": 3
   },
   "file_extension": ".py",
   "mimetype": "text/x-python",
   "name": "python",
   "nbconvert_exporter": "python",
   "pygments_lexer": "ipython3",
   "version": "3.5.2"
  }
 },
 "nbformat": 4,
 "nbformat_minor": 2
}
